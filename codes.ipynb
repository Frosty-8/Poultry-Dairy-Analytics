{
 "cells": [
  {
   "cell_type": "code",
   "execution_count": 1,
   "id": "4fa5134e",
   "metadata": {},
   "outputs": [],
   "source": [
    "import pandas as pd\n",
    "import numpy as np\n",
    "import tensorflow as tf\n",
    "from sklearn.model_selection import train_test_split\n",
    "from sklearn.preprocessing import MinMaxScaler\n",
    "from tensorflow.keras.models import Sequential #type:ignore\n",
    "from tensorflow.keras.layers import Dense , Dropout , Bidirectional , LSTM #type:ignore\n",
    "from tensorflow.keras.preprocessing.sequence import pad_sequences #type:ignore\n",
    "from tensorflow.keras.callbacks import EarlyStopping #type:ignore\n"
   ]
  },
  {
   "cell_type": "code",
   "execution_count": 2,
   "id": "b6df2eec",
   "metadata": {},
   "outputs": [
    {
     "name": "stdout",
     "output_type": "stream",
     "text": [
      "Data Loaded Successfully\n",
      "         date  flock_id  day_of_flock_cycle  number_of_birds_start  \\\n",
      "0  2024-01-01  FLOCK_01                  58                   9667   \n",
      "1  2024-01-01  FLOCK_02                  68                   6645   \n",
      "2  2024-01-01  FLOCK_03                 129                   6989   \n",
      "3  2024-01-01  FLOCK_04                 117                   9350   \n",
      "4  2024-01-01  FLOCK_05                  80                   9130   \n",
      "\n",
      "   daily_mortality  avg_weight_g  feed_consumption_kg  \\\n",
      "0               15       2346.44               709.41   \n",
      "1               36       1168.39               570.78   \n",
      "2               34       1118.20               934.04   \n",
      "3               48       2316.01              1403.11   \n",
      "4               24       1155.49              1435.41   \n",
      "\n",
      "   water_consumption_liters  shed_temperature_c  shed_humidity_percent  \\\n",
      "0                   1364.70               32.81                  52.49   \n",
      "1                   1998.52               29.96                  78.28   \n",
      "2                   2443.77               23.34                  56.07   \n",
      "3                   1348.83               20.69                  50.05   \n",
      "4                   1633.67               26.54                  68.32   \n",
      "\n",
      "   ammonia_level_ppm  disease_outbreak symptoms_observed  \n",
      "0              23.01                 0               NaN  \n",
      "1              11.05                 0               NaN  \n",
      "2              22.68                 0               NaN  \n",
      "3              21.29                 0               NaN  \n",
      "4               2.41                 0               NaN  \n",
      "<class 'pandas.core.frame.DataFrame'>\n",
      "RangeIndex: 1820 entries, 0 to 1819\n",
      "Data columns (total 13 columns):\n",
      " #   Column                    Non-Null Count  Dtype  \n",
      "---  ------                    --------------  -----  \n",
      " 0   date                      1820 non-null   object \n",
      " 1   flock_id                  1820 non-null   object \n",
      " 2   day_of_flock_cycle        1820 non-null   int64  \n",
      " 3   number_of_birds_start     1820 non-null   int64  \n",
      " 4   daily_mortality           1820 non-null   int64  \n",
      " 5   avg_weight_g              1820 non-null   float64\n",
      " 6   feed_consumption_kg       1820 non-null   float64\n",
      " 7   water_consumption_liters  1820 non-null   float64\n",
      " 8   shed_temperature_c        1820 non-null   float64\n",
      " 9   shed_humidity_percent     1820 non-null   float64\n",
      " 10  ammonia_level_ppm         1820 non-null   float64\n",
      " 11  disease_outbreak          1820 non-null   int64  \n",
      " 12  symptoms_observed         26 non-null     object \n",
      "dtypes: float64(6), int64(4), object(3)\n",
      "memory usage: 185.0+ KB\n",
      "None\n"
     ]
    }
   ],
   "source": [
    "\n",
    "try:\n",
    "    df = pd.read_csv('poultry_health_data.csv')\n",
    "    print('Data Loaded Successfully')\n",
    "    print(df.head())\n",
    "    print(df.info())\n",
    "except FileNotFoundError:\n",
    "    print(f\"File not found. Please ensure poultry_health_data.csv is in the current directory.\")\n",
    "    exit()"
   ]
  },
  {
   "cell_type": "code",
   "execution_count": 3,
   "id": "bc28a5c1",
   "metadata": {},
   "outputs": [],
   "source": [
    "\n",
    "df['date'] = pd.to_datetime(df['date'])\n",
    "df = df.sort_values(by=['flock_id','date'])\n",
    "\n",
    "features = [\n",
    "    'number_of_birds_start', 'daily_mortality', 'avg_weight_g',\n",
    "    'feed_consumption_kg', 'water_consumption_liters',\n",
    "    'shed_temperature_c', 'shed_humidity_percent', 'ammonia_level_ppm'\n",
    "]\n",
    "target = 'disease_outbreak'"
   ]
  },
  {
   "cell_type": "code",
   "execution_count": 4,
   "id": "cd6d4bcc",
   "metadata": {},
   "outputs": [],
   "source": [
    "scaler = MinMaxScaler(feature_range=(0,1))\n",
    "df[features] = scaler.fit_transform(df[features])\n",
    "\n",
    "sequences = []\n",
    "labels = []\n",
    "look_back = 14\n"
   ]
  },
  {
   "cell_type": "code",
   "execution_count": 6,
   "id": "ed6d93a7",
   "metadata": {},
   "outputs": [
    {
     "name": "stdout",
     "output_type": "stream",
     "text": [
      "\n",
      " Shape of X : (1680, 14, 8)  \n",
      " Shape of y : (1680,)\n"
     ]
    }
   ],
   "source": [
    "for flock_id in df['flock_id'].unique():\n",
    "    flock_df = df[df['flock_id']== flock_id].copy()\n",
    "\n",
    "    if len(flock_df) > look_back:\n",
    "        for i in range(len(flock_df) - look_back):\n",
    "            seq_x = flock_df[features].iloc[i:i + look_back].values\n",
    "            seq_y = flock_df[target].iloc[i + look_back]\n",
    "\n",
    "            sequences.append(seq_x)\n",
    "            labels.append(seq_y)\n",
    "\n",
    "if not sequences:\n",
    "    print(\"No sequences generated. Please check the data and look_back value.\")\n",
    "    exit()\n",
    "\n",
    "X = np.array(sequences)\n",
    "y = np.array(labels) \n",
    "\n",
    "print(f\"\\n Shape of X : { X.shape }  \")\n",
    "print(f' Shape of y : { y.shape }')"
   ]
  },
  {
   "cell_type": "code",
   "execution_count": 8,
   "id": "ffa47130",
   "metadata": {},
   "outputs": [
    {
     "name": "stdout",
     "output_type": "stream",
     "text": [
      "X_train shape: (1176, 14, 8), y_train shape: (1176,)\n",
      "X_test shape: (504, 14, 8), y_test shape: (504,)\n"
     ]
    }
   ],
   "source": [
    "X_train, X_test, y_train, y_test = train_test_split(X, y, test_size=0.3, random_state=42, stratify=y) \n",
    "\n",
    "print(f\"X_train shape: {X_train.shape}, y_train shape: {y_train.shape}\")\n",
    "print(f\"X_test shape: {X_test.shape}, y_test shape: {y_test.shape}\")\n"
   ]
  },
  {
   "cell_type": "code",
   "execution_count": 10,
   "id": "c76b4908",
   "metadata": {},
   "outputs": [
    {
     "name": "stderr",
     "output_type": "stream",
     "text": [
      "c:\\Users\\Sarthak\\OneDrive\\Documents\\Desktop\\Python projects\\farm-project\\.venv\\Lib\\site-packages\\keras\\src\\layers\\rnn\\bidirectional.py:107: UserWarning: Do not pass an `input_shape`/`input_dim` argument to a layer. When using Sequential models, prefer using an `Input(shape)` object as the first layer in the model instead.\n",
      "  super().__init__(**kwargs)\n"
     ]
    }
   ],
   "source": [
    "model_bi = Sequential([\n",
    "    Bidirectional(LSTM(units=50, return_sequences=True), input_shape=(X_train.shape[1], X_train.shape[2])),\n",
    "    Dropout(0.2),\n",
    "    Bidirectional(LSTM(units=100)),\n",
    "    Dropout(0.2),\n",
    "    Dense(units=64, activation='relu'),\n",
    "    Dropout(0.2),\n",
    "    Dense(units=1, activation='sigmoid')\n",
    "])\n",
    "model = model_bi \n"
   ]
  },
  {
   "cell_type": "code",
   "execution_count": 11,
   "id": "f94016f5",
   "metadata": {},
   "outputs": [
    {
     "data": {
      "text/html": [
       "<pre style=\"white-space:pre;overflow-x:auto;line-height:normal;font-family:Menlo,'DejaVu Sans Mono',consolas,'Courier New',monospace\"><span style=\"font-weight: bold\">Model: \"sequential_1\"</span>\n",
       "</pre>\n"
      ],
      "text/plain": [
       "\u001b[1mModel: \"sequential_1\"\u001b[0m\n"
      ]
     },
     "metadata": {},
     "output_type": "display_data"
    },
    {
     "data": {
      "text/html": [
       "<pre style=\"white-space:pre;overflow-x:auto;line-height:normal;font-family:Menlo,'DejaVu Sans Mono',consolas,'Courier New',monospace\">┏━━━━━━━━━━━━━━━━━━━━━━━━━━━━━━━━━┳━━━━━━━━━━━━━━━━━━━━━━━━┳━━━━━━━━━━━━━━━┓\n",
       "┃<span style=\"font-weight: bold\"> Layer (type)                    </span>┃<span style=\"font-weight: bold\"> Output Shape           </span>┃<span style=\"font-weight: bold\">       Param # </span>┃\n",
       "┡━━━━━━━━━━━━━━━━━━━━━━━━━━━━━━━━━╇━━━━━━━━━━━━━━━━━━━━━━━━╇━━━━━━━━━━━━━━━┩\n",
       "│ bidirectional (<span style=\"color: #0087ff; text-decoration-color: #0087ff\">Bidirectional</span>)   │ (<span style=\"color: #00d7ff; text-decoration-color: #00d7ff\">None</span>, <span style=\"color: #00af00; text-decoration-color: #00af00\">14</span>, <span style=\"color: #00af00; text-decoration-color: #00af00\">100</span>)        │        <span style=\"color: #00af00; text-decoration-color: #00af00\">23,600</span> │\n",
       "├─────────────────────────────────┼────────────────────────┼───────────────┤\n",
       "│ dropout_3 (<span style=\"color: #0087ff; text-decoration-color: #0087ff\">Dropout</span>)             │ (<span style=\"color: #00d7ff; text-decoration-color: #00d7ff\">None</span>, <span style=\"color: #00af00; text-decoration-color: #00af00\">14</span>, <span style=\"color: #00af00; text-decoration-color: #00af00\">100</span>)        │             <span style=\"color: #00af00; text-decoration-color: #00af00\">0</span> │\n",
       "├─────────────────────────────────┼────────────────────────┼───────────────┤\n",
       "│ bidirectional_1 (<span style=\"color: #0087ff; text-decoration-color: #0087ff\">Bidirectional</span>) │ (<span style=\"color: #00d7ff; text-decoration-color: #00d7ff\">None</span>, <span style=\"color: #00af00; text-decoration-color: #00af00\">200</span>)            │       <span style=\"color: #00af00; text-decoration-color: #00af00\">160,800</span> │\n",
       "├─────────────────────────────────┼────────────────────────┼───────────────┤\n",
       "│ dropout_4 (<span style=\"color: #0087ff; text-decoration-color: #0087ff\">Dropout</span>)             │ (<span style=\"color: #00d7ff; text-decoration-color: #00d7ff\">None</span>, <span style=\"color: #00af00; text-decoration-color: #00af00\">200</span>)            │             <span style=\"color: #00af00; text-decoration-color: #00af00\">0</span> │\n",
       "├─────────────────────────────────┼────────────────────────┼───────────────┤\n",
       "│ dense_2 (<span style=\"color: #0087ff; text-decoration-color: #0087ff\">Dense</span>)                 │ (<span style=\"color: #00d7ff; text-decoration-color: #00d7ff\">None</span>, <span style=\"color: #00af00; text-decoration-color: #00af00\">64</span>)             │        <span style=\"color: #00af00; text-decoration-color: #00af00\">12,864</span> │\n",
       "├─────────────────────────────────┼────────────────────────┼───────────────┤\n",
       "│ dropout_5 (<span style=\"color: #0087ff; text-decoration-color: #0087ff\">Dropout</span>)             │ (<span style=\"color: #00d7ff; text-decoration-color: #00d7ff\">None</span>, <span style=\"color: #00af00; text-decoration-color: #00af00\">64</span>)             │             <span style=\"color: #00af00; text-decoration-color: #00af00\">0</span> │\n",
       "├─────────────────────────────────┼────────────────────────┼───────────────┤\n",
       "│ dense_3 (<span style=\"color: #0087ff; text-decoration-color: #0087ff\">Dense</span>)                 │ (<span style=\"color: #00d7ff; text-decoration-color: #00d7ff\">None</span>, <span style=\"color: #00af00; text-decoration-color: #00af00\">1</span>)              │            <span style=\"color: #00af00; text-decoration-color: #00af00\">65</span> │\n",
       "└─────────────────────────────────┴────────────────────────┴───────────────┘\n",
       "</pre>\n"
      ],
      "text/plain": [
       "┏━━━━━━━━━━━━━━━━━━━━━━━━━━━━━━━━━┳━━━━━━━━━━━━━━━━━━━━━━━━┳━━━━━━━━━━━━━━━┓\n",
       "┃\u001b[1m \u001b[0m\u001b[1mLayer (type)                   \u001b[0m\u001b[1m \u001b[0m┃\u001b[1m \u001b[0m\u001b[1mOutput Shape          \u001b[0m\u001b[1m \u001b[0m┃\u001b[1m \u001b[0m\u001b[1m      Param #\u001b[0m\u001b[1m \u001b[0m┃\n",
       "┡━━━━━━━━━━━━━━━━━━━━━━━━━━━━━━━━━╇━━━━━━━━━━━━━━━━━━━━━━━━╇━━━━━━━━━━━━━━━┩\n",
       "│ bidirectional (\u001b[38;5;33mBidirectional\u001b[0m)   │ (\u001b[38;5;45mNone\u001b[0m, \u001b[38;5;34m14\u001b[0m, \u001b[38;5;34m100\u001b[0m)        │        \u001b[38;5;34m23,600\u001b[0m │\n",
       "├─────────────────────────────────┼────────────────────────┼───────────────┤\n",
       "│ dropout_3 (\u001b[38;5;33mDropout\u001b[0m)             │ (\u001b[38;5;45mNone\u001b[0m, \u001b[38;5;34m14\u001b[0m, \u001b[38;5;34m100\u001b[0m)        │             \u001b[38;5;34m0\u001b[0m │\n",
       "├─────────────────────────────────┼────────────────────────┼───────────────┤\n",
       "│ bidirectional_1 (\u001b[38;5;33mBidirectional\u001b[0m) │ (\u001b[38;5;45mNone\u001b[0m, \u001b[38;5;34m200\u001b[0m)            │       \u001b[38;5;34m160,800\u001b[0m │\n",
       "├─────────────────────────────────┼────────────────────────┼───────────────┤\n",
       "│ dropout_4 (\u001b[38;5;33mDropout\u001b[0m)             │ (\u001b[38;5;45mNone\u001b[0m, \u001b[38;5;34m200\u001b[0m)            │             \u001b[38;5;34m0\u001b[0m │\n",
       "├─────────────────────────────────┼────────────────────────┼───────────────┤\n",
       "│ dense_2 (\u001b[38;5;33mDense\u001b[0m)                 │ (\u001b[38;5;45mNone\u001b[0m, \u001b[38;5;34m64\u001b[0m)             │        \u001b[38;5;34m12,864\u001b[0m │\n",
       "├─────────────────────────────────┼────────────────────────┼───────────────┤\n",
       "│ dropout_5 (\u001b[38;5;33mDropout\u001b[0m)             │ (\u001b[38;5;45mNone\u001b[0m, \u001b[38;5;34m64\u001b[0m)             │             \u001b[38;5;34m0\u001b[0m │\n",
       "├─────────────────────────────────┼────────────────────────┼───────────────┤\n",
       "│ dense_3 (\u001b[38;5;33mDense\u001b[0m)                 │ (\u001b[38;5;45mNone\u001b[0m, \u001b[38;5;34m1\u001b[0m)              │            \u001b[38;5;34m65\u001b[0m │\n",
       "└─────────────────────────────────┴────────────────────────┴───────────────┘\n"
      ]
     },
     "metadata": {},
     "output_type": "display_data"
    },
    {
     "data": {
      "text/html": [
       "<pre style=\"white-space:pre;overflow-x:auto;line-height:normal;font-family:Menlo,'DejaVu Sans Mono',consolas,'Courier New',monospace\"><span style=\"font-weight: bold\"> Total params: </span><span style=\"color: #00af00; text-decoration-color: #00af00\">197,329</span> (770.82 KB)\n",
       "</pre>\n"
      ],
      "text/plain": [
       "\u001b[1m Total params: \u001b[0m\u001b[38;5;34m197,329\u001b[0m (770.82 KB)\n"
      ]
     },
     "metadata": {},
     "output_type": "display_data"
    },
    {
     "data": {
      "text/html": [
       "<pre style=\"white-space:pre;overflow-x:auto;line-height:normal;font-family:Menlo,'DejaVu Sans Mono',consolas,'Courier New',monospace\"><span style=\"font-weight: bold\"> Trainable params: </span><span style=\"color: #00af00; text-decoration-color: #00af00\">197,329</span> (770.82 KB)\n",
       "</pre>\n"
      ],
      "text/plain": [
       "\u001b[1m Trainable params: \u001b[0m\u001b[38;5;34m197,329\u001b[0m (770.82 KB)\n"
      ]
     },
     "metadata": {},
     "output_type": "display_data"
    },
    {
     "data": {
      "text/html": [
       "<pre style=\"white-space:pre;overflow-x:auto;line-height:normal;font-family:Menlo,'DejaVu Sans Mono',consolas,'Courier New',monospace\"><span style=\"font-weight: bold\"> Non-trainable params: </span><span style=\"color: #00af00; text-decoration-color: #00af00\">0</span> (0.00 B)\n",
       "</pre>\n"
      ],
      "text/plain": [
       "\u001b[1m Non-trainable params: \u001b[0m\u001b[38;5;34m0\u001b[0m (0.00 B)\n"
      ]
     },
     "metadata": {},
     "output_type": "display_data"
    }
   ],
   "source": [
    "model.compile(optimizer='adam', loss='binary_crossentropy', metrics=['accuracy'])\n",
    "model.summary()\n"
   ]
  },
  {
   "cell_type": "code",
   "execution_count": 14,
   "id": "a57b8f49",
   "metadata": {},
   "outputs": [
    {
     "name": "stdout",
     "output_type": "stream",
     "text": [
      "\n",
      "Training the model...\n",
      "Epoch 1/50\n"
     ]
    },
    {
     "name": "stdout",
     "output_type": "stream",
     "text": [
      "\u001b[1m34/34\u001b[0m \u001b[32m━━━━━━━━━━━━━━━━━━━━\u001b[0m\u001b[37m\u001b[0m \u001b[1m1s\u001b[0m 24ms/step - accuracy: 0.9903 - loss: 0.0594 - val_accuracy: 0.9915 - val_loss: 0.0538\n",
      "Epoch 2/50\n",
      "\u001b[1m34/34\u001b[0m \u001b[32m━━━━━━━━━━━━━━━━━━━━\u001b[0m\u001b[37m\u001b[0m \u001b[1m1s\u001b[0m 22ms/step - accuracy: 0.9899 - loss: 0.0645 - val_accuracy: 0.9915 - val_loss: 0.0534\n",
      "Epoch 3/50\n",
      "\u001b[1m34/34\u001b[0m \u001b[32m━━━━━━━━━━━━━━━━━━━━\u001b[0m\u001b[37m\u001b[0m \u001b[1m1s\u001b[0m 22ms/step - accuracy: 0.9885 - loss: 0.0653 - val_accuracy: 0.9915 - val_loss: 0.0555\n",
      "Epoch 4/50\n",
      "\u001b[1m34/34\u001b[0m \u001b[32m━━━━━━━━━━━━━━━━━━━━\u001b[0m\u001b[37m\u001b[0m \u001b[1m1s\u001b[0m 21ms/step - accuracy: 0.9834 - loss: 0.0952 - val_accuracy: 0.9915 - val_loss: 0.0489\n",
      "Epoch 5/50\n",
      "\u001b[1m34/34\u001b[0m \u001b[32m━━━━━━━━━━━━━━━━━━━━\u001b[0m\u001b[37m\u001b[0m \u001b[1m1s\u001b[0m 22ms/step - accuracy: 0.9813 - loss: 0.0952 - val_accuracy: 0.9915 - val_loss: 0.0493\n",
      "Epoch 6/50\n",
      "\u001b[1m34/34\u001b[0m \u001b[32m━━━━━━━━━━━━━━━━━━━━\u001b[0m\u001b[37m\u001b[0m \u001b[1m1s\u001b[0m 29ms/step - accuracy: 0.9851 - loss: 0.0826 - val_accuracy: 0.9915 - val_loss: 0.0502\n",
      "Epoch 7/50\n",
      "\u001b[1m34/34\u001b[0m \u001b[32m━━━━━━━━━━━━━━━━━━━━\u001b[0m\u001b[37m\u001b[0m \u001b[1m1s\u001b[0m 23ms/step - accuracy: 0.9824 - loss: 0.0935 - val_accuracy: 0.9915 - val_loss: 0.0499\n",
      "Epoch 8/50\n",
      "\u001b[1m34/34\u001b[0m \u001b[32m━━━━━━━━━━━━━━━━━━━━\u001b[0m\u001b[37m\u001b[0m \u001b[1m1s\u001b[0m 19ms/step - accuracy: 0.9860 - loss: 0.0747 - val_accuracy: 0.9915 - val_loss: 0.0503\n",
      "Epoch 9/50\n",
      "\u001b[1m34/34\u001b[0m \u001b[32m━━━━━━━━━━━━━━━━━━━━\u001b[0m\u001b[37m\u001b[0m \u001b[1m1s\u001b[0m 16ms/step - accuracy: 0.9834 - loss: 0.0907 - val_accuracy: 0.9915 - val_loss: 0.0488\n",
      "Epoch 10/50\n",
      "\u001b[1m34/34\u001b[0m \u001b[32m━━━━━━━━━━━━━━━━━━━━\u001b[0m\u001b[37m\u001b[0m \u001b[1m1s\u001b[0m 17ms/step - accuracy: 0.9823 - loss: 0.0927 - val_accuracy: 0.9915 - val_loss: 0.0511\n",
      "Epoch 11/50\n",
      "\u001b[1m34/34\u001b[0m \u001b[32m━━━━━━━━━━━━━━━━━━━━\u001b[0m\u001b[37m\u001b[0m \u001b[1m1s\u001b[0m 16ms/step - accuracy: 0.9841 - loss: 0.0810 - val_accuracy: 0.9915 - val_loss: 0.0493\n",
      "Epoch 12/50\n",
      "\u001b[1m34/34\u001b[0m \u001b[32m━━━━━━━━━━━━━━━━━━━━\u001b[0m\u001b[37m\u001b[0m \u001b[1m1s\u001b[0m 19ms/step - accuracy: 0.9871 - loss: 0.0710 - val_accuracy: 0.9915 - val_loss: 0.0503\n",
      "Epoch 13/50\n",
      "\u001b[1m34/34\u001b[0m \u001b[32m━━━━━━━━━━━━━━━━━━━━\u001b[0m\u001b[37m\u001b[0m \u001b[1m1s\u001b[0m 18ms/step - accuracy: 0.9822 - loss: 0.0951 - val_accuracy: 0.9915 - val_loss: 0.0490\n",
      "Epoch 14/50\n",
      "\u001b[1m34/34\u001b[0m \u001b[32m━━━━━━━━━━━━━━━━━━━━\u001b[0m\u001b[37m\u001b[0m \u001b[1m1s\u001b[0m 18ms/step - accuracy: 0.9841 - loss: 0.0843 - val_accuracy: 0.9915 - val_loss: 0.0491\n",
      "Epoch 15/50\n",
      "\u001b[1m34/34\u001b[0m \u001b[32m━━━━━━━━━━━━━━━━━━━━\u001b[0m\u001b[37m\u001b[0m \u001b[1m1s\u001b[0m 18ms/step - accuracy: 0.9870 - loss: 0.0701 - val_accuracy: 0.9915 - val_loss: 0.0512\n",
      "Epoch 16/50\n",
      "\u001b[1m34/34\u001b[0m \u001b[32m━━━━━━━━━━━━━━━━━━━━\u001b[0m\u001b[37m\u001b[0m \u001b[1m1s\u001b[0m 18ms/step - accuracy: 0.9873 - loss: 0.0669 - val_accuracy: 0.9915 - val_loss: 0.0500\n",
      "Epoch 17/50\n",
      "\u001b[1m34/34\u001b[0m \u001b[32m━━━━━━━━━━━━━━━━━━━━\u001b[0m\u001b[37m\u001b[0m \u001b[1m1s\u001b[0m 20ms/step - accuracy: 0.9853 - loss: 0.0751 - val_accuracy: 0.9915 - val_loss: 0.0500\n",
      "Epoch 18/50\n",
      "\u001b[1m34/34\u001b[0m \u001b[32m━━━━━━━━━━━━━━━━━━━━\u001b[0m\u001b[37m\u001b[0m \u001b[1m1s\u001b[0m 18ms/step - accuracy: 0.9876 - loss: 0.0649 - val_accuracy: 0.9915 - val_loss: 0.0502\n",
      "Epoch 19/50\n",
      "\u001b[1m34/34\u001b[0m \u001b[32m━━━━━━━━━━━━━━━━━━━━\u001b[0m\u001b[37m\u001b[0m \u001b[1m1s\u001b[0m 18ms/step - accuracy: 0.9828 - loss: 0.0976 - val_accuracy: 0.9915 - val_loss: 0.0498\n",
      "Model training complete.\n"
     ]
    }
   ],
   "source": [
    "early_stopping = EarlyStopping(monitor='val_loss', patience=10, restore_best_weights=True)\n",
    "\n",
    "print(\"\\nTraining the model...\")\n",
    "history = model.fit(\n",
    "    X_train, y_train,\n",
    "    epochs=50, \n",
    "    batch_size=32,\n",
    "    validation_split=0.1,\n",
    "    callbacks=[early_stopping],\n",
    "    verbose=1\n",
    ")\n",
    "print(\"Model training complete.\")\n"
   ]
  },
  {
   "cell_type": "code",
   "execution_count": 19,
   "id": "1e3e8f65",
   "metadata": {},
   "outputs": [
    {
     "name": "stdout",
     "output_type": "stream",
     "text": [
      "\n",
      "Test Loss: 0.0741\n",
      "Test Accuracy: 98.6111%\n"
     ]
    }
   ],
   "source": [
    "loss, accuracy = model.evaluate(X_test, y_test, verbose=0)\n",
    "print(f\"\\nTest Loss: {loss:.4f}\")\n",
    "print(f\"Test Accuracy: {100 * accuracy:.4f}%\")\n"
   ]
  },
  {
   "cell_type": "code",
   "execution_count": 20,
   "id": "ccaf22c4",
   "metadata": {},
   "outputs": [
    {
     "name": "stdout",
     "output_type": "stream",
     "text": [
      "\u001b[1m 1/16\u001b[0m \u001b[32m━\u001b[0m\u001b[37m━━━━━━━━━━━━━━━━━━━\u001b[0m \u001b[1m0s\u001b[0m 51ms/step"
     ]
    },
    {
     "name": "stdout",
     "output_type": "stream",
     "text": [
      "\u001b[1m16/16\u001b[0m \u001b[32m━━━━━━━━━━━━━━━━━━━━\u001b[0m\u001b[37m\u001b[0m \u001b[1m0s\u001b[0m 10ms/step\n",
      "\n",
      "Sample Predictions:\n",
      "Actual: 0, Predicted Probability: 0.0096, Predicted Class: 0\n",
      "Actual: 0, Predicted Probability: 0.0115, Predicted Class: 0\n",
      "Actual: 0, Predicted Probability: 0.0100, Predicted Class: 0\n",
      "Actual: 0, Predicted Probability: 0.0089, Predicted Class: 0\n",
      "Actual: 0, Predicted Probability: 0.0090, Predicted Class: 0\n",
      "Actual: 0, Predicted Probability: 0.0102, Predicted Class: 0\n",
      "Actual: 0, Predicted Probability: 0.0087, Predicted Class: 0\n",
      "Actual: 0, Predicted Probability: 0.0101, Predicted Class: 0\n",
      "Actual: 0, Predicted Probability: 0.0105, Predicted Class: 0\n",
      "Actual: 0, Predicted Probability: 0.0104, Predicted Class: 0\n"
     ]
    }
   ],
   "source": [
    "predictions_proba = model.predict(X_test)\n",
    "predictions_class = (predictions_proba > 0.5).astype(int)\n",
    "\n",
    "print(\"\\nSample Predictions:\")\n",
    "for i in range(10):\n",
    "    print(f\"Actual: {y_test[i]}, Predicted Probability: {predictions_proba[i][0]:.4f}, Predicted Class: {predictions_class[i][0]}\")\n"
   ]
  },
  {
   "cell_type": "code",
   "execution_count": 21,
   "id": "104fb14f",
   "metadata": {},
   "outputs": [
    {
     "name": "stdout",
     "output_type": "stream",
     "text": [
      "\n",
      " Model saved as poultry_health_data.joblib\n"
     ]
    }
   ],
   "source": [
    "import joblib \n",
    "\n",
    "joblib.dump(model,'poultry_health_data.joblib')\n",
    "print('\\n Model saved as poultry_health_data.joblib')"
   ]
  }
 ],
 "metadata": {
  "kernelspec": {
   "display_name": ".venv",
   "language": "python",
   "name": "python3"
  },
  "language_info": {
   "codemirror_mode": {
    "name": "ipython",
    "version": 3
   },
   "file_extension": ".py",
   "mimetype": "text/x-python",
   "name": "python",
   "nbconvert_exporter": "python",
   "pygments_lexer": "ipython3",
   "version": "3.12.6"
  }
 },
 "nbformat": 4,
 "nbformat_minor": 5
}
